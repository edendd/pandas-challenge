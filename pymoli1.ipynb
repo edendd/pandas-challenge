{
 "cells": [
  {
   "cell_type": "code",
   "execution_count": 206,
   "metadata": {},
   "outputs": [],
   "source": [
    "import pandas as pd\n",
    "import numpy as np\n",
    "data = \"C:/Users/edenh/OneDrive/Desktop/pandas assignmenet/purchase_data.csv\"\n",
    "newfile_df = pd.read_csv(data)\n"
   ]
  },
  {
   "cell_type": "code",
   "execution_count": 207,
   "metadata": {},
   "outputs": [
    {
     "data": {
      "text/html": [
       "<div>\n",
       "<style scoped>\n",
       "    .dataframe tbody tr th:only-of-type {\n",
       "        vertical-align: middle;\n",
       "    }\n",
       "\n",
       "    .dataframe tbody tr th {\n",
       "        vertical-align: top;\n",
       "    }\n",
       "\n",
       "    .dataframe thead th {\n",
       "        text-align: right;\n",
       "    }\n",
       "</style>\n",
       "<table border=\"1\" class=\"dataframe\">\n",
       "  <thead>\n",
       "    <tr style=\"text-align: right;\">\n",
       "      <th></th>\n",
       "      <th>Purchase ID</th>\n",
       "      <th>SN</th>\n",
       "      <th>Age</th>\n",
       "      <th>Gender</th>\n",
       "      <th>Item ID</th>\n",
       "      <th>Item Name</th>\n",
       "      <th>Price</th>\n",
       "    </tr>\n",
       "  </thead>\n",
       "  <tbody>\n",
       "    <tr>\n",
       "      <td>0</td>\n",
       "      <td>0</td>\n",
       "      <td>Lisim78</td>\n",
       "      <td>20</td>\n",
       "      <td>Male</td>\n",
       "      <td>108</td>\n",
       "      <td>Extraction, Quickblade Of Trembling Hands</td>\n",
       "      <td>3.53</td>\n",
       "    </tr>\n",
       "    <tr>\n",
       "      <td>1</td>\n",
       "      <td>1</td>\n",
       "      <td>Lisovynya38</td>\n",
       "      <td>40</td>\n",
       "      <td>Male</td>\n",
       "      <td>143</td>\n",
       "      <td>Frenzied Scimitar</td>\n",
       "      <td>1.56</td>\n",
       "    </tr>\n",
       "    <tr>\n",
       "      <td>2</td>\n",
       "      <td>2</td>\n",
       "      <td>Ithergue48</td>\n",
       "      <td>24</td>\n",
       "      <td>Male</td>\n",
       "      <td>92</td>\n",
       "      <td>Final Critic</td>\n",
       "      <td>4.88</td>\n",
       "    </tr>\n",
       "    <tr>\n",
       "      <td>3</td>\n",
       "      <td>3</td>\n",
       "      <td>Chamassasya86</td>\n",
       "      <td>24</td>\n",
       "      <td>Male</td>\n",
       "      <td>100</td>\n",
       "      <td>Blindscythe</td>\n",
       "      <td>3.27</td>\n",
       "    </tr>\n",
       "    <tr>\n",
       "      <td>4</td>\n",
       "      <td>4</td>\n",
       "      <td>Iskosia90</td>\n",
       "      <td>23</td>\n",
       "      <td>Male</td>\n",
       "      <td>131</td>\n",
       "      <td>Fury</td>\n",
       "      <td>1.44</td>\n",
       "    </tr>\n",
       "  </tbody>\n",
       "</table>\n",
       "</div>"
      ],
      "text/plain": [
       "   Purchase ID             SN  Age Gender  Item ID  \\\n",
       "0            0        Lisim78   20   Male      108   \n",
       "1            1    Lisovynya38   40   Male      143   \n",
       "2            2     Ithergue48   24   Male       92   \n",
       "3            3  Chamassasya86   24   Male      100   \n",
       "4            4      Iskosia90   23   Male      131   \n",
       "\n",
       "                                   Item Name  Price  \n",
       "0  Extraction, Quickblade Of Trembling Hands   3.53  \n",
       "1                          Frenzied Scimitar   1.56  \n",
       "2                               Final Critic   4.88  \n",
       "3                                Blindscythe   3.27  \n",
       "4                                       Fury   1.44  "
      ]
     },
     "execution_count": 207,
     "metadata": {},
     "output_type": "execute_result"
    }
   ],
   "source": [
    "# read the purchesing file\n",
    "newfile_df.head()"
   ]
  },
  {
   "cell_type": "code",
   "execution_count": 208,
   "metadata": {},
   "outputs": [
    {
     "name": "stdout",
     "output_type": "stream",
     "text": [
      " Player Count\n",
      "Total Number of Players :576\n"
     ]
    },
    {
     "data": {
      "text/html": [
       "<div>\n",
       "<style scoped>\n",
       "    .dataframe tbody tr th:only-of-type {\n",
       "        vertical-align: middle;\n",
       "    }\n",
       "\n",
       "    .dataframe tbody tr th {\n",
       "        vertical-align: top;\n",
       "    }\n",
       "\n",
       "    .dataframe thead th {\n",
       "        text-align: right;\n",
       "    }\n",
       "</style>\n",
       "<table border=\"1\" class=\"dataframe\">\n",
       "  <thead>\n",
       "    <tr style=\"text-align: right;\">\n",
       "      <th></th>\n",
       "      <th>Total Players</th>\n",
       "    </tr>\n",
       "  </thead>\n",
       "  <tbody>\n",
       "    <tr>\n",
       "      <td>0</td>\n",
       "      <td>576</td>\n",
       "    </tr>\n",
       "  </tbody>\n",
       "</table>\n",
       "</div>"
      ],
      "text/plain": [
       "   Total Players\n",
       "0            576"
      ]
     },
     "execution_count": 208,
     "metadata": {},
     "output_type": "execute_result"
    }
   ],
   "source": [
    "#player count\n",
    "total_players = newfile_df[\"SN\"].nunique()\n",
    "total_players\n",
    "\n",
    "print(\" Player Count\")\n",
    "print(\"Total Number of Players :\" + str(total_players))\n",
    "playerscount = pd.DataFrame({\"Total Players\":[total_players]})\n",
    "playerscount\n"
   ]
  },
  {
   "cell_type": "code",
   "execution_count": 209,
   "metadata": {},
   "outputs": [],
   "source": [
    "#purchasing analiysis\n",
    "unique_items = newfile_df['Item Name'].count()"
   ]
  },
  {
   "cell_type": "code",
   "execution_count": 210,
   "metadata": {},
   "outputs": [],
   "source": [
    "# avarage price\n",
    "avg_price = newfile_df['Price'].mean()"
   ]
  },
  {
   "cell_type": "code",
   "execution_count": 211,
   "metadata": {},
   "outputs": [],
   "source": [
    "# purchases\n",
    "total_purchases = newfile_df['Price'].count()"
   ]
  },
  {
   "cell_type": "code",
   "execution_count": 212,
   "metadata": {},
   "outputs": [],
   "source": [
    "# total reve\n",
    "total_revenue = newfile_df['Price'].sum()"
   ]
  },
  {
   "cell_type": "code",
   "execution_count": 213,
   "metadata": {},
   "outputs": [],
   "source": [
    "purchase_analysis = {\n",
    "    'unique_items': [newfile_df['Item Name'].count()],\n",
    "    'avg_price': [newfile_df['Price'].mean()],\n",
    "    'total_purchases': [newfile_df['Price'].count()],\n",
    "    'total_revenue': [newfile_df['Price'].sum()]}"
   ]
  },
  {
   "cell_type": "code",
   "execution_count": 214,
   "metadata": {},
   "outputs": [
    {
     "data": {
      "text/html": [
       "<div>\n",
       "<style scoped>\n",
       "    .dataframe tbody tr th:only-of-type {\n",
       "        vertical-align: middle;\n",
       "    }\n",
       "\n",
       "    .dataframe tbody tr th {\n",
       "        vertical-align: top;\n",
       "    }\n",
       "\n",
       "    .dataframe thead th {\n",
       "        text-align: right;\n",
       "    }\n",
       "</style>\n",
       "<table border=\"1\" class=\"dataframe\">\n",
       "  <thead>\n",
       "    <tr style=\"text-align: right;\">\n",
       "      <th></th>\n",
       "      <th>unique_items</th>\n",
       "      <th>avg_price</th>\n",
       "      <th>total_purchases</th>\n",
       "      <th>total_revenue</th>\n",
       "    </tr>\n",
       "  </thead>\n",
       "  <tbody>\n",
       "    <tr>\n",
       "      <td>0</td>\n",
       "      <td>780</td>\n",
       "      <td>3.050987</td>\n",
       "      <td>780</td>\n",
       "      <td>2379.77</td>\n",
       "    </tr>\n",
       "  </tbody>\n",
       "</table>\n",
       "</div>"
      ],
      "text/plain": [
       "   unique_items  avg_price  total_purchases  total_revenue\n",
       "0           780   3.050987              780        2379.77"
      ]
     },
     "execution_count": 214,
     "metadata": {},
     "output_type": "execute_result"
    }
   ],
   "source": [
    "purchase_analysis_df = pd.DataFrame(purchase_analysis)\n",
    "purchase_analysis_df"
   ]
  },
  {
   "cell_type": "code",
   "execution_count": 215,
   "metadata": {},
   "outputs": [
    {
     "data": {
      "text/plain": [
       "113.19444444444444"
      ]
     },
     "execution_count": 215,
     "metadata": {},
     "output_type": "execute_result"
    }
   ],
   "source": [
    "# Gender demograpics\n",
    "\n",
    "# percentage and count of male players\n",
    "other_players=newfile_df.loc[newfile_df[\"Gender\"] ==\"Male\"]\n",
    "male_players = len(other_players)\n",
    "male_players\n",
    "\n",
    "male_player_perc = male_players / total_players * 100\n",
    "male_player_perc\n"
   ]
  },
  {
   "cell_type": "code",
   "execution_count": 216,
   "metadata": {},
   "outputs": [
    {
     "data": {
      "text/plain": [
       "19.618055555555554"
      ]
     },
     "execution_count": 216,
     "metadata": {},
     "output_type": "execute_result"
    }
   ],
   "source": [
    "# percentage and count of female players\n",
    "other_players=newfile_df.loc[newfile_df[\"Gender\"] ==\"Female\"]\n",
    "female_players = len(other_players)\n",
    "female_players\n",
    "\n",
    "female_player_perc = female_players / total_players * 100\n",
    "female_player_perc\n"
   ]
  },
  {
   "cell_type": "code",
   "execution_count": 217,
   "metadata": {},
   "outputs": [
    {
     "data": {
      "text/plain": [
       "15"
      ]
     },
     "execution_count": 217,
     "metadata": {},
     "output_type": "execute_result"
    }
   ],
   "source": [
    "# count of other players\n",
    "other_players =newfile_df.loc[newfile_df[\"Gender\"]== \"Other / Non-Disclosed\"]\n",
    "other_players = len(other_players)\n",
    "other_players"
   ]
  },
  {
   "cell_type": "code",
   "execution_count": 218,
   "metadata": {},
   "outputs": [
    {
     "data": {
      "text/plain": [
       "2.604166666666667"
      ]
     },
     "execution_count": 218,
     "metadata": {},
     "output_type": "execute_result"
    }
   ],
   "source": [
    "other_players_perc = other_players / total_players * 100\n",
    "other_players_perc\n"
   ]
  },
  {
   "cell_type": "code",
   "execution_count": 219,
   "metadata": {},
   "outputs": [
    {
     "data": {
      "text/html": [
       "<div>\n",
       "<style scoped>\n",
       "    .dataframe tbody tr th:only-of-type {\n",
       "        vertical-align: middle;\n",
       "    }\n",
       "\n",
       "    .dataframe tbody tr th {\n",
       "        vertical-align: top;\n",
       "    }\n",
       "\n",
       "    .dataframe thead th {\n",
       "        text-align: right;\n",
       "    }\n",
       "</style>\n",
       "<table border=\"1\" class=\"dataframe\">\n",
       "  <thead>\n",
       "    <tr style=\"text-align: right;\">\n",
       "      <th></th>\n",
       "      <th>Percentage of Players</th>\n",
       "      <th>Total Count</th>\n",
       "    </tr>\n",
       "    <tr>\n",
       "      <th>Category</th>\n",
       "      <th></th>\n",
       "      <th></th>\n",
       "    </tr>\n",
       "  </thead>\n",
       "  <tbody>\n",
       "    <tr>\n",
       "      <td>Male</td>\n",
       "      <td>113.19</td>\n",
       "      <td>652</td>\n",
       "    </tr>\n",
       "    <tr>\n",
       "      <td>Female</td>\n",
       "      <td>19.62</td>\n",
       "      <td>113</td>\n",
       "    </tr>\n",
       "    <tr>\n",
       "      <td>Other/Non-Disclosed</td>\n",
       "      <td>2.60</td>\n",
       "      <td>15</td>\n",
       "    </tr>\n",
       "  </tbody>\n",
       "</table>\n",
       "</div>"
      ],
      "text/plain": [
       "                     Percentage of Players  Total Count\n",
       "Category                                               \n",
       "Male                                113.19          652\n",
       "Female                               19.62          113\n",
       "Other/Non-Disclosed                   2.60           15"
      ]
     },
     "execution_count": 219,
     "metadata": {},
     "output_type": "execute_result"
    }
   ],
   "source": [
    "gender_data = pd.DataFrame({\n",
    "        \"Percentage of Players\":[male_player_perc,female_player_perc,other_players_perc],\n",
    "    \"Total Count\":[male_players,female_players, other_players],\n",
    "                  \"Category\":[\"Male\", \"Female\", \"Other/Non-Disclosed\"]\n",
    "}).round(2)\n",
    "gender_data_arrange =gender_data.set_index(\"Category\")\n",
    "gender_data_arrange.head()\n"
   ]
  },
  {
   "cell_type": "code",
   "execution_count": 220,
   "metadata": {},
   "outputs": [],
   "source": [
    "#purchasing analysis(gender)\n",
    "\n",
    "male_purchase = newfile_df.loc[newfile_df[\"Gender\"] == \"Male\"][\"Price\"].count()\n",
    "female_purchase = newfile_df.loc[newfile_df[\"Gender\"] == \"Female\"][\"Price\"].count()\n",
    "other_purchase = total_purchases - male_purchase - female_purchase"
   ]
  },
  {
   "cell_type": "code",
   "execution_count": 221,
   "metadata": {},
   "outputs": [],
   "source": [
    "# the average price of each gender\n",
    "male_price_avg = newfile_df.loc[newfile_df[\"Gender\"] == \"Male\"]['Price'].mean()\n",
    "female_price_avg = newfile_df.loc[newfile_df[\"Gender\"] == \"Female\"]['Price'].mean()\n",
    "others_price_avg = newfile_df.loc[newfile_df[\"Gender\"] == \"Other / Non-Disclosed\"]['Price'].mean()"
   ]
  },
  {
   "cell_type": "code",
   "execution_count": 222,
   "metadata": {},
   "outputs": [],
   "source": [
    "# the total price \n",
    "male_price_total = newfile_df.loc[newfile_df[\"Gender\"] == \"Male\"]['Price'].sum()\n",
    "female_price_total = newfile_df.loc[newfile_df[\"Gender\"] == \"Female\"]['Price'].sum()\n",
    "others_price_total = newfile_df.loc[newfile_df[\"Gender\"] == \"Other / Non-Disclosed\"]['Price'].sum()"
   ]
  },
  {
   "cell_type": "code",
   "execution_count": 223,
   "metadata": {},
   "outputs": [],
   "source": [
    "# normalizing male/ female and other players\n",
    "male_norm = male_price_total/male_players\n",
    "female_norm = female_price_total/female_players\n",
    "other_norm = others_price_total/other_players"
   ]
  },
  {
   "cell_type": "code",
   "execution_count": 224,
   "metadata": {
    "scrolled": true
   },
   "outputs": [
    {
     "data": {
      "text/html": [
       "<style  type=\"text/css\" >\n",
       "</style><table id=\"T_1ad0e48c_0406_11ea_b95c_a4fc775bd404\" ><thead>    <tr>        <th class=\"blank level0\" ></th>        <th class=\"col_heading level0 col0\" >Purchase Count</th>        <th class=\"col_heading level0 col1\" >Average Purchase Price</th>        <th class=\"col_heading level0 col2\" >Total Purchase Value</th>        <th class=\"col_heading level0 col3\" >Normalized Totals</th>    </tr>    <tr>        <th class=\"index_name level0\" >Gender</th>        <th class=\"blank\" ></th>        <th class=\"blank\" ></th>        <th class=\"blank\" ></th>        <th class=\"blank\" ></th>    </tr></thead><tbody>\n",
       "                <tr>\n",
       "                        <th id=\"T_1ad0e48c_0406_11ea_b95c_a4fc775bd404level0_row0\" class=\"row_heading level0 row0\" >Male</th>\n",
       "                        <td id=\"T_1ad0e48c_0406_11ea_b95c_a4fc775bd404row0_col0\" class=\"data row0 col0\" >652</td>\n",
       "                        <td id=\"T_1ad0e48c_0406_11ea_b95c_a4fc775bd404row0_col1\" class=\"data row0 col1\" >$3.02</td>\n",
       "                        <td id=\"T_1ad0e48c_0406_11ea_b95c_a4fc775bd404row0_col2\" class=\"data row0 col2\" >$1967.64</td>\n",
       "                        <td id=\"T_1ad0e48c_0406_11ea_b95c_a4fc775bd404row0_col3\" class=\"data row0 col3\" >$3.02</td>\n",
       "            </tr>\n",
       "            <tr>\n",
       "                        <th id=\"T_1ad0e48c_0406_11ea_b95c_a4fc775bd404level0_row1\" class=\"row_heading level0 row1\" >Female</th>\n",
       "                        <td id=\"T_1ad0e48c_0406_11ea_b95c_a4fc775bd404row1_col0\" class=\"data row1 col0\" >113</td>\n",
       "                        <td id=\"T_1ad0e48c_0406_11ea_b95c_a4fc775bd404row1_col1\" class=\"data row1 col1\" >$3.20</td>\n",
       "                        <td id=\"T_1ad0e48c_0406_11ea_b95c_a4fc775bd404row1_col2\" class=\"data row1 col2\" >$361.94</td>\n",
       "                        <td id=\"T_1ad0e48c_0406_11ea_b95c_a4fc775bd404row1_col3\" class=\"data row1 col3\" >$3.20</td>\n",
       "            </tr>\n",
       "            <tr>\n",
       "                        <th id=\"T_1ad0e48c_0406_11ea_b95c_a4fc775bd404level0_row2\" class=\"row_heading level0 row2\" >Other / Non-Disclosed</th>\n",
       "                        <td id=\"T_1ad0e48c_0406_11ea_b95c_a4fc775bd404row2_col0\" class=\"data row2 col0\" >15</td>\n",
       "                        <td id=\"T_1ad0e48c_0406_11ea_b95c_a4fc775bd404row2_col1\" class=\"data row2 col1\" >$3.35</td>\n",
       "                        <td id=\"T_1ad0e48c_0406_11ea_b95c_a4fc775bd404row2_col2\" class=\"data row2 col2\" >$50.19</td>\n",
       "                        <td id=\"T_1ad0e48c_0406_11ea_b95c_a4fc775bd404row2_col3\" class=\"data row2 col3\" >$3.35</td>\n",
       "            </tr>\n",
       "    </tbody></table>"
      ],
      "text/plain": [
       "<pandas.io.formats.style.Styler at 0x1f93b990c48>"
      ]
     },
     "execution_count": 224,
     "metadata": {},
     "output_type": "execute_result"
    }
   ],
   "source": [
    "# total  purchase value, normalized totals,avg price and purchase count is here.\n",
    "gender_data = pd.DataFrame({\"Gender\":[\"Male\",\"Female\", \"Other / Non-Disclosed\"], \"Purchase Count\":[male_purchase, female_purchase, other_purchase],\n",
    "    \"Average Purchase Price\": [male_price_avg, female_price_avg, others_price_avg], \n",
    "    \"Total Purchase Value\": [male_price_total, female_price_total, others_price_total],\n",
    "    \"Normalized Totals\": [male_norm, female_norm, other_norm]},\n",
    "    columns = [\"Gender\", \"Purchase Count\", \"Average Purchase Price\", \"Total Purchase Value\", \"Normalized Totals\"])\n",
    "\n",
    "gender_data_arrange = gender_data.set_index(\"Gender\")\n",
    "gender_data_arrange.style.format({\"Average Purchase Price\": \"${:.2f}\",\"Total Purchase Value\": \"${:.2f}\", \"Normalized Totals\":\"${:.2f}\"})\n"
   ]
  },
  {
   "cell_type": "code",
   "execution_count": 225,
   "metadata": {},
   "outputs": [
    {
     "data": {
      "text/html": [
       "<div>\n",
       "<style scoped>\n",
       "    .dataframe tbody tr th:only-of-type {\n",
       "        vertical-align: middle;\n",
       "    }\n",
       "\n",
       "    .dataframe tbody tr th {\n",
       "        vertical-align: top;\n",
       "    }\n",
       "\n",
       "    .dataframe thead th {\n",
       "        text-align: right;\n",
       "    }\n",
       "</style>\n",
       "<table border=\"1\" class=\"dataframe\">\n",
       "  <thead>\n",
       "    <tr style=\"text-align: right;\">\n",
       "      <th></th>\n",
       "      <th>Total Count</th>\n",
       "      <th>Percentage of Players</th>\n",
       "    </tr>\n",
       "    <tr>\n",
       "      <th>Age Group</th>\n",
       "      <th></th>\n",
       "      <th></th>\n",
       "    </tr>\n",
       "  </thead>\n",
       "  <tbody>\n",
       "    <tr>\n",
       "      <td>&lt;10</td>\n",
       "      <td>17</td>\n",
       "      <td>2.95</td>\n",
       "    </tr>\n",
       "    <tr>\n",
       "      <td>10-14</td>\n",
       "      <td>22</td>\n",
       "      <td>3.82</td>\n",
       "    </tr>\n",
       "    <tr>\n",
       "      <td>15-19</td>\n",
       "      <td>107</td>\n",
       "      <td>18.58</td>\n",
       "    </tr>\n",
       "    <tr>\n",
       "      <td>20-24</td>\n",
       "      <td>258</td>\n",
       "      <td>44.79</td>\n",
       "    </tr>\n",
       "    <tr>\n",
       "      <td>25-29</td>\n",
       "      <td>77</td>\n",
       "      <td>13.37</td>\n",
       "    </tr>\n",
       "    <tr>\n",
       "      <td>30-34</td>\n",
       "      <td>52</td>\n",
       "      <td>9.03</td>\n",
       "    </tr>\n",
       "    <tr>\n",
       "      <td>35-39</td>\n",
       "      <td>31</td>\n",
       "      <td>5.38</td>\n",
       "    </tr>\n",
       "    <tr>\n",
       "      <td>40+</td>\n",
       "      <td>12</td>\n",
       "      <td>2.08</td>\n",
       "    </tr>\n",
       "  </tbody>\n",
       "</table>\n",
       "</div>"
      ],
      "text/plain": [
       "           Total Count  Percentage of Players\n",
       "Age Group                                    \n",
       "<10                 17                   2.95\n",
       "10-14               22                   3.82\n",
       "15-19              107                  18.58\n",
       "20-24              258                  44.79\n",
       "25-29               77                  13.37\n",
       "30-34               52                   9.03\n",
       "35-39               31                   5.38\n",
       "40+                 12                   2.08"
      ]
     },
     "execution_count": 225,
     "metadata": {},
     "output_type": "execute_result"
    }
   ],
   "source": [
    "#Age Demographics\n",
    "\n",
    "bins = [0, 9, 14, 19, 24,29,34,39,100] #list of bins\n",
    "group_names = ['<10', '10-14', '15-19', '20-24','25-29','30-34','35-39','40+'] #grouping bins\n",
    "pd.cut(newfile_df[\"Age\"], bins, labels=group_names)\n",
    "newfile_df[\"Age Group\"] = pd.cut(newfile_df[\"Age\"], bins, labels=group_names)\n",
    "\n",
    "grouping_SN_age = newfile_df.groupby([\"SN\",\"Age Group\"])\n",
    "\n",
    "unique_payers_df = pd.DataFrame(grouping_SN_age.size())\n",
    "#print(unique_payers_df)\n",
    "agegroup_df = pd.DataFrame(unique_payers_df.groupby([\"Age Group\"]).count())\n",
    "agegroup_df.columns= [\"Total Count\"]\n",
    "agegroup_df[\"Percentage of Players\"] =round(100 *agegroup_df[\"Total Count\"]/agegroup_df[\"Total Count\"].sum(),2)\n",
    "\n",
    "agegroup_df\n",
    "\n",
    "\n"
   ]
  },
  {
   "cell_type": "code",
   "execution_count": 226,
   "metadata": {},
   "outputs": [
    {
     "data": {
      "text/html": [
       "<div>\n",
       "<style scoped>\n",
       "    .dataframe tbody tr th:only-of-type {\n",
       "        vertical-align: middle;\n",
       "    }\n",
       "\n",
       "    .dataframe tbody tr th {\n",
       "        vertical-align: top;\n",
       "    }\n",
       "\n",
       "    .dataframe thead th {\n",
       "        text-align: right;\n",
       "    }\n",
       "</style>\n",
       "<table border=\"1\" class=\"dataframe\">\n",
       "  <thead>\n",
       "    <tr style=\"text-align: right;\">\n",
       "      <th></th>\n",
       "      <th>Purchase Count</th>\n",
       "      <th>Average Purchase Price</th>\n",
       "      <th>Total Purchase Value</th>\n",
       "    </tr>\n",
       "    <tr>\n",
       "      <th>SN</th>\n",
       "      <th></th>\n",
       "      <th></th>\n",
       "      <th></th>\n",
       "    </tr>\n",
       "  </thead>\n",
       "  <tbody>\n",
       "    <tr>\n",
       "      <td>[Lisosia93]</td>\n",
       "      <td>5</td>\n",
       "      <td>3.79</td>\n",
       "      <td>18.96</td>\n",
       "    </tr>\n",
       "    <tr>\n",
       "      <td>[Idastidru52]</td>\n",
       "      <td>4</td>\n",
       "      <td>3.86</td>\n",
       "      <td>15.45</td>\n",
       "    </tr>\n",
       "    <tr>\n",
       "      <td>[Chamjask73]</td>\n",
       "      <td>3</td>\n",
       "      <td>4.61</td>\n",
       "      <td>13.83</td>\n",
       "    </tr>\n",
       "    <tr>\n",
       "      <td>[Iral74]</td>\n",
       "      <td>4</td>\n",
       "      <td>3.40</td>\n",
       "      <td>13.62</td>\n",
       "    </tr>\n",
       "    <tr>\n",
       "      <td>[Iskadarya95]</td>\n",
       "      <td>3</td>\n",
       "      <td>4.37</td>\n",
       "      <td>13.10</td>\n",
       "    </tr>\n",
       "  </tbody>\n",
       "</table>\n",
       "</div>"
      ],
      "text/plain": [
       "               Purchase Count  Average Purchase Price  Total Purchase Value\n",
       "SN                                                                         \n",
       "[Lisosia93]                 5                    3.79                 18.96\n",
       "[Idastidru52]               4                    3.86                 15.45\n",
       "[Chamjask73]                3                    4.61                 13.83\n",
       "[Iral74]                    4                    3.40                 13.62\n",
       "[Iskadarya95]               3                    4.37                 13.10"
      ]
     },
     "execution_count": 226,
     "metadata": {},
     "output_type": "execute_result"
    }
   ],
   "source": [
    "#Here are the top Spenders\n",
    "\n",
    "#SN\n",
    "SN = newfile_df.groupby(newfile_df[\"SN\"])\n",
    "SN_Name = SN[\"SN\"].unique()\n",
    "\n",
    "#Here are Purchase Counts\n",
    "SN_Count = SN['Age'].count()\n",
    "\n",
    "#Here average Purchase Prices\n",
    "SN_Avg = round(SN['Price'].mean(),2)\n",
    "\n",
    "#Total Purchase Value\n",
    "SNTotal = SN['Price'].sum()\n",
    "\n",
    "\n",
    "TopSpend = {\"SN\":SN_Name,\"Purchase Count\":SNCount,\n",
    "                 \"Average Purchase Price\":SN_Avg,\"Total Purchase Value\":SNTotal}\n",
    "TopSpend1= pd.DataFrame(TopSpend)\n",
    "TopSpend1= TopSpend1.set_index('SN')\n",
    "TopSpend1 = TopSpend1.sort_values(\"Total Purchase Value\",ascending=False)\n",
    "TopSpend1 = TopSpend1[['Purchase Count', 'Average Purchase Price', 'Total Purchase Value']]\n",
    "\n",
    "TopSpend1.iloc[:5]\n"
   ]
  },
  {
   "cell_type": "code",
   "execution_count": 227,
   "metadata": {},
   "outputs": [
    {
     "data": {
      "text/html": [
       "<style  type=\"text/css\" >\n",
       "</style><table id=\"T_1d2db552_0406_11ea_a24c_a4fc775bd404\" ><thead>    <tr>        <th class=\"blank\" ></th>        <th class=\"blank level0\" ></th>        <th class=\"col_heading level0 col0\" >Purchase Count</th>        <th class=\"col_heading level0 col1\" >Item Price</th>        <th class=\"col_heading level0 col2\" >Total Purchase Value</th>    </tr>    <tr>        <th class=\"index_name level0\" >Item Name</th>        <th class=\"index_name level1\" >Item ID</th>        <th class=\"blank\" ></th>        <th class=\"blank\" ></th>        <th class=\"blank\" ></th>    </tr></thead><tbody>\n",
       "                <tr>\n",
       "                        <th id=\"T_1d2db552_0406_11ea_a24c_a4fc775bd404level0_row0\" class=\"row_heading level0 row0\" >Oathbreaker, Last Hope of the Breaking Storm</th>\n",
       "                        <th id=\"T_1d2db552_0406_11ea_a24c_a4fc775bd404level1_row0\" class=\"row_heading level1 row0\" >178</th>\n",
       "                        <td id=\"T_1d2db552_0406_11ea_a24c_a4fc775bd404row0_col0\" class=\"data row0 col0\" >12</td>\n",
       "                        <td id=\"T_1d2db552_0406_11ea_a24c_a4fc775bd404row0_col1\" class=\"data row0 col1\" >$4.23</td>\n",
       "                        <td id=\"T_1d2db552_0406_11ea_a24c_a4fc775bd404row0_col2\" class=\"data row0 col2\" >$50.76</td>\n",
       "            </tr>\n",
       "            <tr>\n",
       "                        <th id=\"T_1d2db552_0406_11ea_a24c_a4fc775bd404level0_row1\" class=\"row_heading level0 row1\" >Nirvana</th>\n",
       "                        <th id=\"T_1d2db552_0406_11ea_a24c_a4fc775bd404level1_row1\" class=\"row_heading level1 row1\" >82</th>\n",
       "                        <td id=\"T_1d2db552_0406_11ea_a24c_a4fc775bd404row1_col0\" class=\"data row1 col0\" >9</td>\n",
       "                        <td id=\"T_1d2db552_0406_11ea_a24c_a4fc775bd404row1_col1\" class=\"data row1 col1\" >$4.90</td>\n",
       "                        <td id=\"T_1d2db552_0406_11ea_a24c_a4fc775bd404row1_col2\" class=\"data row1 col2\" >$44.10</td>\n",
       "            </tr>\n",
       "            <tr>\n",
       "                        <th id=\"T_1d2db552_0406_11ea_a24c_a4fc775bd404level0_row2\" class=\"row_heading level0 row2\" >Fiery Glass Crusader</th>\n",
       "                        <th id=\"T_1d2db552_0406_11ea_a24c_a4fc775bd404level1_row2\" class=\"row_heading level1 row2\" >145</th>\n",
       "                        <td id=\"T_1d2db552_0406_11ea_a24c_a4fc775bd404row2_col0\" class=\"data row2 col0\" >9</td>\n",
       "                        <td id=\"T_1d2db552_0406_11ea_a24c_a4fc775bd404row2_col1\" class=\"data row2 col1\" >$4.58</td>\n",
       "                        <td id=\"T_1d2db552_0406_11ea_a24c_a4fc775bd404row2_col2\" class=\"data row2 col2\" >$41.22</td>\n",
       "            </tr>\n",
       "            <tr>\n",
       "                        <th id=\"T_1d2db552_0406_11ea_a24c_a4fc775bd404level0_row3\" class=\"row_heading level0 row3\" >Extraction, Quickblade Of Trembling Hands</th>\n",
       "                        <th id=\"T_1d2db552_0406_11ea_a24c_a4fc775bd404level1_row3\" class=\"row_heading level1 row3\" >108</th>\n",
       "                        <td id=\"T_1d2db552_0406_11ea_a24c_a4fc775bd404row3_col0\" class=\"data row3 col0\" >9</td>\n",
       "                        <td id=\"T_1d2db552_0406_11ea_a24c_a4fc775bd404row3_col1\" class=\"data row3 col1\" >$3.53</td>\n",
       "                        <td id=\"T_1d2db552_0406_11ea_a24c_a4fc775bd404row3_col2\" class=\"data row3 col2\" >$31.77</td>\n",
       "            </tr>\n",
       "            <tr>\n",
       "                        <th id=\"T_1d2db552_0406_11ea_a24c_a4fc775bd404level0_row4\" class=\"row_heading level0 row4\" >Singed Scalpel</th>\n",
       "                        <th id=\"T_1d2db552_0406_11ea_a24c_a4fc775bd404level1_row4\" class=\"row_heading level1 row4\" >103</th>\n",
       "                        <td id=\"T_1d2db552_0406_11ea_a24c_a4fc775bd404row4_col0\" class=\"data row4 col0\" >8</td>\n",
       "                        <td id=\"T_1d2db552_0406_11ea_a24c_a4fc775bd404row4_col1\" class=\"data row4 col1\" >$4.35</td>\n",
       "                        <td id=\"T_1d2db552_0406_11ea_a24c_a4fc775bd404row4_col2\" class=\"data row4 col2\" >$34.80</td>\n",
       "            </tr>\n",
       "            <tr>\n",
       "                        <th id=\"T_1d2db552_0406_11ea_a24c_a4fc775bd404level0_row5\" class=\"row_heading level0 row5\" >Wolf</th>\n",
       "                        <th id=\"T_1d2db552_0406_11ea_a24c_a4fc775bd404level1_row5\" class=\"row_heading level1 row5\" >60</th>\n",
       "                        <td id=\"T_1d2db552_0406_11ea_a24c_a4fc775bd404row5_col0\" class=\"data row5 col0\" >8</td>\n",
       "                        <td id=\"T_1d2db552_0406_11ea_a24c_a4fc775bd404row5_col1\" class=\"data row5 col1\" >$3.54</td>\n",
       "                        <td id=\"T_1d2db552_0406_11ea_a24c_a4fc775bd404row5_col2\" class=\"data row5 col2\" >$28.32</td>\n",
       "            </tr>\n",
       "    </tbody></table>"
      ],
      "text/plain": [
       "<pandas.io.formats.style.Styler at 0x1f93b868a08>"
      ]
     },
     "execution_count": 227,
     "metadata": {},
     "output_type": "execute_result"
    }
   ],
   "source": [
    "#We are gonna find purchase count, total purchase value for items by merging dataframes\n",
    "# indexs to dataframes would be be merged on as follows\n",
    "pre_merge_one = newfile_df.groupby(\"Item Name\").sum().reset_index()\n",
    "pre_merge_two = newfile_df.groupby(\"Item ID\").sum().reset_index()\n",
    "pre_merge_three = newfile_df.groupby(\"Item Name\").count().reset_index()\n",
    "\n",
    "#merging  dataframes here\n",
    "merge_one = pd.merge(pre_merge_one, pre_merge_two, on=\"Price\")\n",
    "merge_two = pd.merge(pre_merge_three, merge_one, on=\"Item Name\")\n",
    "\n",
    "# manipulating data and start to create final dataframe\n",
    "merge_two[\"Gender\"] = (merge_two[\"Price_y\"]/merge_two[\"Item ID\"]).round(2)\n",
    "\n",
    "merge_two_renamed = merge_two.rename(columns={\"Age\": \"Purchase Count\", \"Gender\": \"Item Price\", \"Item ID\": \"null\", \"Price_y\": \"Total Purchase Value\", \"Item ID_y\": \"Item ID\"})\n",
    "\n",
    "#bring  columns we are looking for\n",
    "clean_df = merge_two_renamed[[\"Item ID\", \"Item Name\", \"Purchase Count\", \"Item Price\", \"Total Purchase Value\"]]\n",
    "\n",
    "prefinal_df = clean_df.set_index(['Item Name', 'Item ID'])\n",
    "popular_items_final = prefinal_df.sort_values('Purchase Count', ascending=False).head(6)\n",
    "popular_items_final.style.format({\"Item Price\": \"${:.2f}\", \"Total Purchase Value\": \"${:.2f}\"})"
   ]
  },
  {
   "cell_type": "code",
   "execution_count": 228,
   "metadata": {},
   "outputs": [
    {
     "data": {
      "text/html": [
       "<style  type=\"text/css\" >\n",
       "</style><table id=\"T_1db4c6f6_0406_11ea_b1d0_a4fc775bd404\" ><thead>    <tr>        <th class=\"blank\" ></th>        <th class=\"blank level0\" ></th>        <th class=\"col_heading level0 col0\" >Purchase Count</th>        <th class=\"col_heading level0 col1\" >Item Price</th>        <th class=\"col_heading level0 col2\" >Total Purchase Value</th>    </tr>    <tr>        <th class=\"index_name level0\" >Item Name</th>        <th class=\"index_name level1\" >Item ID</th>        <th class=\"blank\" ></th>        <th class=\"blank\" ></th>        <th class=\"blank\" ></th>    </tr></thead><tbody>\n",
       "                <tr>\n",
       "                        <th id=\"T_1db4c6f6_0406_11ea_b1d0_a4fc775bd404level0_row0\" class=\"row_heading level0 row0\" >Oathbreaker, Last Hope of the Breaking Storm</th>\n",
       "                        <th id=\"T_1db4c6f6_0406_11ea_b1d0_a4fc775bd404level1_row0\" class=\"row_heading level1 row0\" >178</th>\n",
       "                        <td id=\"T_1db4c6f6_0406_11ea_b1d0_a4fc775bd404row0_col0\" class=\"data row0 col0\" >12</td>\n",
       "                        <td id=\"T_1db4c6f6_0406_11ea_b1d0_a4fc775bd404row0_col1\" class=\"data row0 col1\" >$4.23</td>\n",
       "                        <td id=\"T_1db4c6f6_0406_11ea_b1d0_a4fc775bd404row0_col2\" class=\"data row0 col2\" >$50.76</td>\n",
       "            </tr>\n",
       "            <tr>\n",
       "                        <th id=\"T_1db4c6f6_0406_11ea_b1d0_a4fc775bd404level0_row1\" class=\"row_heading level0 row1\" >Nirvana</th>\n",
       "                        <th id=\"T_1db4c6f6_0406_11ea_b1d0_a4fc775bd404level1_row1\" class=\"row_heading level1 row1\" >82</th>\n",
       "                        <td id=\"T_1db4c6f6_0406_11ea_b1d0_a4fc775bd404row1_col0\" class=\"data row1 col0\" >9</td>\n",
       "                        <td id=\"T_1db4c6f6_0406_11ea_b1d0_a4fc775bd404row1_col1\" class=\"data row1 col1\" >$4.90</td>\n",
       "                        <td id=\"T_1db4c6f6_0406_11ea_b1d0_a4fc775bd404row1_col2\" class=\"data row1 col2\" >$44.10</td>\n",
       "            </tr>\n",
       "            <tr>\n",
       "                        <th id=\"T_1db4c6f6_0406_11ea_b1d0_a4fc775bd404level0_row2\" class=\"row_heading level0 row2\" >Fiery Glass Crusader</th>\n",
       "                        <th id=\"T_1db4c6f6_0406_11ea_b1d0_a4fc775bd404level1_row2\" class=\"row_heading level1 row2\" >145</th>\n",
       "                        <td id=\"T_1db4c6f6_0406_11ea_b1d0_a4fc775bd404row2_col0\" class=\"data row2 col0\" >9</td>\n",
       "                        <td id=\"T_1db4c6f6_0406_11ea_b1d0_a4fc775bd404row2_col1\" class=\"data row2 col1\" >$4.58</td>\n",
       "                        <td id=\"T_1db4c6f6_0406_11ea_b1d0_a4fc775bd404row2_col2\" class=\"data row2 col2\" >$41.22</td>\n",
       "            </tr>\n",
       "            <tr>\n",
       "                        <th id=\"T_1db4c6f6_0406_11ea_b1d0_a4fc775bd404level0_row3\" class=\"row_heading level0 row3\" >Singed Scalpel</th>\n",
       "                        <th id=\"T_1db4c6f6_0406_11ea_b1d0_a4fc775bd404level1_row3\" class=\"row_heading level1 row3\" >103</th>\n",
       "                        <td id=\"T_1db4c6f6_0406_11ea_b1d0_a4fc775bd404row3_col0\" class=\"data row3 col0\" >8</td>\n",
       "                        <td id=\"T_1db4c6f6_0406_11ea_b1d0_a4fc775bd404row3_col1\" class=\"data row3 col1\" >$4.35</td>\n",
       "                        <td id=\"T_1db4c6f6_0406_11ea_b1d0_a4fc775bd404row3_col2\" class=\"data row3 col2\" >$34.80</td>\n",
       "            </tr>\n",
       "            <tr>\n",
       "                        <th id=\"T_1db4c6f6_0406_11ea_b1d0_a4fc775bd404level0_row4\" class=\"row_heading level0 row4\" >Lightning, Etcher of the King</th>\n",
       "                        <th id=\"T_1db4c6f6_0406_11ea_b1d0_a4fc775bd404level1_row4\" class=\"row_heading level1 row4\" >59</th>\n",
       "                        <td id=\"T_1db4c6f6_0406_11ea_b1d0_a4fc775bd404row4_col0\" class=\"data row4 col0\" >8</td>\n",
       "                        <td id=\"T_1db4c6f6_0406_11ea_b1d0_a4fc775bd404row4_col1\" class=\"data row4 col1\" >$4.23</td>\n",
       "                        <td id=\"T_1db4c6f6_0406_11ea_b1d0_a4fc775bd404row4_col2\" class=\"data row4 col2\" >$33.84</td>\n",
       "            </tr>\n",
       "    </tbody></table>"
      ],
      "text/plain": [
       "<pandas.io.formats.style.Styler at 0x1f93b982888>"
      ]
     },
     "execution_count": 228,
     "metadata": {},
     "output_type": "execute_result"
    }
   ],
   "source": [
    " #To find most profitable items we can use the previous prefinal_df\n",
    "profit_items_final = prefinal_df.sort_values('Total Purchase Value', ascending=False).head()\n",
    "profit_items_final.style.format({\"Item Price\": \"${:.2f}\", \"Total Purchase Value\": \"${:.2f}\"})"
   ]
  },
  {
   "cell_type": "code",
   "execution_count": null,
   "metadata": {},
   "outputs": [],
   "source": []
  },
  {
   "cell_type": "code",
   "execution_count": null,
   "metadata": {},
   "outputs": [],
   "source": []
  },
  {
   "cell_type": "code",
   "execution_count": null,
   "metadata": {},
   "outputs": [],
   "source": []
  },
  {
   "cell_type": "code",
   "execution_count": null,
   "metadata": {},
   "outputs": [],
   "source": []
  }
 ],
 "metadata": {
  "kernelspec": {
   "display_name": "Python 3",
   "language": "python",
   "name": "python3"
  },
  "language_info": {
   "codemirror_mode": {
    "name": "ipython",
    "version": 3
   },
   "file_extension": ".py",
   "mimetype": "text/x-python",
   "name": "python",
   "nbconvert_exporter": "python",
   "pygments_lexer": "ipython3",
   "version": "3.7.4"
  }
 },
 "nbformat": 4,
 "nbformat_minor": 2
}
